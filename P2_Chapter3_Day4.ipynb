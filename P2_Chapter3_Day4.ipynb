{
 "cells": [
  {
   "cell_type": "markdown",
   "metadata": {},
   "source": [
    "#### Problem BA3D: Construct the De Bruijn Graph of a String\n",
    "\n",
    "https://rosalind.info/problems/ba3d/"
   ]
  },
  {
   "cell_type": "code",
   "execution_count": null,
   "metadata": {},
   "outputs": [],
   "source": [
    "## Write your code here\n",
    "\n"
   ]
  },
  {
   "cell_type": "markdown",
   "metadata": {},
   "source": [
    "#### Problem BA3E: Construct the De Bruijn Graph of a Collection of k-mers\n",
    "\n",
    "https://rosalind.info/problems/ba3e/"
   ]
  },
  {
   "cell_type": "code",
   "execution_count": null,
   "metadata": {},
   "outputs": [],
   "source": [
    "## Complete the following code by filling the blanks.\n",
    "## The blanks are represented by: ...\n",
    "\n",
    "def de_bruijn_graph_from_kmers(...):\n",
    "    edges = []\n",
    "    nodes = set()\n",
    "    for ... in ...:\n",
    "        prefix = ...\n",
    "        suffix = ...\n",
    "        edges.append((..., ...))\n",
    "        nodes.add(...)\n",
    "        nodes.add(...)\n",
    "    graph = {node: [] for node in nodes}\n",
    "    print('*')\n",
    "    print(graph)\n",
    "    for edge in edges:\n",
    "        graph[edge[0]].append(edge[1])\n",
    "        print(graph)\n",
    "\n",
    "    output = []\n",
    "    for node in graph:\n",
    "        neighbors = \",\".join(graph[node])\n",
    "        output.append(f\"{node} -> {neighbors}\")\n",
    "\n",
    "    return output"
   ]
  },
  {
   "cell_type": "markdown",
   "metadata": {},
   "source": [
    "#### Problem BA3H: Reconstruct a String from its k-mer Composition\n",
    "\n",
    "https://rosalind.info/problems/ba3h/"
   ]
  },
  {
   "cell_type": "code",
   "execution_count": null,
   "metadata": {},
   "outputs": [],
   "source": [
    "## Complete the following code by filling the blanks.\n",
    "## The blanks are represented by: ...\n",
    "\n",
    "def de_bruijn_graph_from_kmers(...):\n",
    "    # Implement the function (write your code below)\n",
    "    ...\n",
    "    return graph\n",
    "\n",
    "def find_eulerian_path(...):\n",
    "    in_degrees = {...}\n",
    "    out_degrees = {...}\n",
    "\n",
    "    for ... in ...:\n",
    "        for ... in ...:\n",
    "            in_degrees[...] += ...\n",
    "\n",
    "    start_node = ...\n",
    "    for ... in ...:\n",
    "        if out_degrees[...] - in_degrees[...] == ...:\n",
    "            start_node = ...\n",
    "            break\n",
    "\n",
    "    if ...:\n",
    "        start_node = ...\n",
    "\n",
    "    stack = [...]\n",
    "    path = ...\n",
    "\n",
    "    while ...:\n",
    "        current_node = ...\n",
    "        if ...:\n",
    "            next_node = ...\n",
    "            stack.append(...)\n",
    "        else:\n",
    "            path.append(...)\n",
    "\n",
    "    path = ...\n",
    "    return path\n",
    "\n",
    "def reconstruct_string_from_kmers( ... , ... ):\n",
    "    graph = ...\n",
    "    print(graph)\n",
    "    eulerian_path = ...\n",
    "    text = ...\n",
    "    for ... in ...:\n",
    "        text += ...\n",
    "    return text"
   ]
  }
 ],
 "metadata": {
  "kernelspec": {
   "display_name": "Python 3",
   "language": "python",
   "name": "python3"
  },
  "language_info": {
   "codemirror_mode": {
    "name": "ipython",
    "version": 3
   },
   "file_extension": ".py",
   "mimetype": "text/x-python",
   "name": "python",
   "nbconvert_exporter": "python",
   "pygments_lexer": "ipython3",
   "version": "3.10.0"
  }
 },
 "nbformat": 4,
 "nbformat_minor": 2
}
