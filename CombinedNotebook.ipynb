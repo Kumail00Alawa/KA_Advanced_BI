{
  "cells": [
    {
      "cell_type": "markdown",
      "metadata": {
        "id": "LuG_yFRlzJdl"
      },
      "source": [
        "## Chapter 1"
      ]
    },
    {
      "cell_type": "markdown",
      "metadata": {
        "id": "VMFISJGUzJdo"
      },
      "source": [
        "#### Problem BA1A: Compute the Number of Times a Pattern Appears in a Text\n",
        "http://rosalind.info/problems/ba1a/"
      ]
    },
    {
      "cell_type": "code",
      "execution_count": 102,
      "metadata": {
        "id": "C3puiBj-zJdp"
      },
      "outputs": [],
      "source": [
        "'''\n",
        "- Theorical Example:\n",
        "- If we have the gene GCGCG, and we want to count the pattern of GCG in the given gene\n",
        "- We want to slide the pattern GCG over the gene GCGCG, so it would be:\n",
        "\n",
        "- First iteration:\n",
        "- Text   : GCGCG\n",
        "- Pattern: GCG\n",
        "\n",
        "- Second iteration:\n",
        "- Text   : GCGCG\n",
        "- Pattern:  GCG\n",
        "\n",
        "- Third iteration:\n",
        "- Text   : GCGCG\n",
        "- Pattern:   GCG\n",
        "\n",
        "- As you can see, we can slide the pattern over the whole text of the gene in just three iterations for the given example! \n",
        "- We want to build that in a code format, and we want to make it general for any text and any pattern as we will do in the text below:\n",
        "'''\n",
        "\n",
        "def PatternCount(Text, Pattern):\n",
        "    '''\n",
        "    - Define a counter variable that will count the occurence of a specific pattern in the text\n",
        "    - The counter will be incremented by one if the pattern has been detected\n",
        "    '''\n",
        "    count = 0\n",
        "\n",
        "\n",
        "    '''\n",
        "    - Define 'position' variable that will set the stopping index when we slide the pattern over the text.\n",
        "    - For example, if we consider the same example of having a gene GCGCG and we want to find the pattern GCG:\n",
        "    - Index  : 01234\n",
        "    - Text   : GCGCG\n",
        "    - Pattern:   GCG\n",
        "\n",
        "    - For the above example, the variable position = 2\n",
        "    - This marks the index of the text when the pattern reaches the end of the text.\n",
        "\n",
        "    - Then, we will define another variable that we will call overlap. We will be adding 1 to the position variable.\n",
        "    - It will be clear why we are adding 1 to the position variable later in the code.\n",
        "    '''\n",
        "    position = len(Text) - len(Pattern)\n",
        "    overlap = position + 1\n",
        "\n",
        "\n",
        "    '''\n",
        "    - I will start by explaining the output of range(overlap)\n",
        "    - range(overlap) = [0, 1, 2, ..., overlap - 1]\n",
        "    - For our example of gene GCGCG and the pattern GCG we will have:\n",
        "    - range(overlap) = [0, 1, 2]\n",
        "    '''    \n",
        "    for i in range(overlap):\n",
        "        '''\n",
        "        - The 'start' and 'end' variables will set the starting index and the ending index of the text. \n",
        "        - This will be used later to slice the text by selecting certain indicies.\n",
        "        - These variables will be updated in each iteration during the loop as shown below:\n",
        "\n",
        "        - For the first iteration:\n",
        "        - start = 0\n",
        "        - end   = 3\n",
        "\n",
        "        - For the second iteration:\n",
        "        - start = 1\n",
        "        - end   = 4\n",
        "\n",
        "        - For the third iteration:\n",
        "        - start = 2\n",
        "        - end   = 5\n",
        "\n",
        "        - As we mentioned earlier, we will use 'start' and 'end' variables to slice the text and compare it with the given pattern.\n",
        "        - If the slice of the text is same as the pattern, the counter will be incremented by 1.\n",
        "        '''\n",
        "        start = i\n",
        "        end = i + len(Pattern)\n",
        "        if Text[start:end] == Pattern:\n",
        "            count += 1\n",
        "\n",
        "\n",
        "    '''\n",
        "    - After we finish the code we will return the result we obtained to the user! :)\n",
        "    '''\n",
        "    return count"
      ]
    },
    {
      "cell_type": "code",
      "execution_count": 103,
      "metadata": {
        "colab": {
          "base_uri": "https://localhost:8080/"
        },
        "id": "5eIaTgKI76DK",
        "outputId": "02650b3a-4338-4710-cc8e-a8b73816a162"
      },
      "outputs": [
        {
          "data": {
            "text/plain": [
              "2"
            ]
          },
          "execution_count": 103,
          "metadata": {},
          "output_type": "execute_result"
        }
      ],
      "source": [
        "PatternCount(\"GCGCG\",\"GCG\")"
      ]
    },
    {
      "cell_type": "code",
      "execution_count": 104,
      "metadata": {
        "colab": {
          "base_uri": "https://localhost:8080/"
        },
        "id": "mSUppPpZzJdq",
        "outputId": "388ebb92-8ba0-431f-d024-5b55fb5872eb"
      },
      "outputs": [
        {
          "data": {
            "text/plain": [
              "27"
            ]
          },
          "execution_count": 104,
          "metadata": {},
          "output_type": "execute_result"
        }
      ],
      "source": [
        "PatternCount(\"CGTCGCTCGTCTCGCTCGAATTCGCTCGAGGTTGACGGCAAATTGCCATCGCTCGCGTCGCTCGAGGTTCGCTCGATCGCTCGTCGCTCGTTCCACTCGCTCGTCGCTCGATCGCTCGCACTCGCTCGGCACTGGTCGCTCGGTCGCTCGTCGCTCGCGTCGCTCGCCTGGTCATCGCTCGAATCGCTCGTCGATCATCGCTCGCTCGCATCGCTCGTATCCCTCGCTCGCATCGCTCGTCGCTCGACTTCGCTCGCTCGCTCGTCGCTCGTTTGTTCGCTCGAAGATAATCCTCGCTCGGGTCGCTCGTCGCTCGTCGCTCGGGTCGCTCGGAGAATCGCTCGTCGCTCGTCGCTCGTCGCTCGTCGCTCGTTCCCCGTTCGCTCGCTATCGCTCGCAAGGTCGCTCGATGCTCGCTCGAATCGCTCGTCGCTCGTATTAACAACTTCGCTCGGTCGCTCGTCGCTCGTCGCTCGCTTCGCTCGTCGCTCGGTCGCTCGGTCGCTCGAGCTCGCTCGTCGCTCGCTCTCGCTCGGTGATCTCGCTCGTCTCGCTCGCATCGCTCGACTTTCTAGTCGCTCGGGTCTCGCTCGCCATCGCTCGGTCGCTCGCTAGCGTCTTCGCTCGTTAACGTCGCTCGTACGTCGCTCGATATCGCTCGGTTCCTCGCTCGTACTTCGCTCGTTATCGCTCGCATCGCTCGATAGTTCGCTCGTCGCTCGCTGCTCGCTCGTCGCTCGTATCGCTCGGCGTTCGCTCGTCGCTCGTCGCTCGATGGTCGCTCGTTCGCTCGTCGCTCGTTCGCTCGCAGATGCGTATCGCTCGGTATCGCTCGGTACATCGCTCGCGCTCGCATTCGCTCGATCGCTCGCTGTCGCTCGGCTGGTCGCTCGTCGCTCGTTATCGCTCGTGATCGCTCGTATCGCTCGACTCGCTCGTGACAATTCGCTCGGTCGCTCGCTCGCTCGCCTCGCTCGGGTCGCTCGTTCGCTCGATCGCTCGTCGCTCGCGATCGCTCGCTCGCTCGTCGCTCG\",\"TCGCTCGTC\")"
      ]
    },
    {
      "cell_type": "markdown",
      "metadata": {
        "id": "tma2jMGJzJdr"
      },
      "source": [
        "#### Problem BA1B: Find the Most Frequent Words in a String\n",
        "http://rosalind.info/problems/ba1b/"
      ]
    },
    {
      "cell_type": "code",
      "execution_count": 105,
      "metadata": {
        "id": "YYv3iiZ-zJdr"
      },
      "outputs": [],
      "source": [
        "# from ba1a.py import PatternCount\n",
        "# uncomment when splitting into scripts\n",
        "\n",
        "def FrequentWords(Text, k):\n",
        "    frequent_patterns = set()\n",
        "    count = {}\n",
        "\n",
        "    # iterate through DNA Text and count kmers\n",
        "    for i in range(len(Text) - k):\n",
        "        pattern = Text[i : i + k]\n",
        "        # add pattern to dictionary\n",
        "        # key is i, start position of kmer\n",
        "        # value is count, using PatternCount function from 1A\n",
        "        count[i] = PatternCount(Text, pattern)\n",
        "\n",
        "        # find maximum count value in dictionary\n",
        "        max_count = max(count.values())\n",
        "\n",
        "    # iterate through Text again, if count at that position is max count, slice that kmer and add to set\n",
        "    for position in range(len(Text) - k):\n",
        "        if count[position] == max_count:\n",
        "            frequent_patterns.add(Text[position : position + k])\n",
        "\n",
        "    return frequent_patterns\n",
        "\n",
        "assert FrequentWords(\"ACGTTGCATGTCGCATGATGCATGAGAGCT\", 4) == {'CATG', 'GCAT'}"
      ]
    },
    {
      "cell_type": "code",
      "execution_count": 106,
      "metadata": {
        "colab": {
          "base_uri": "https://localhost:8080/"
        },
        "id": "7uekNm6-zJds",
        "outputId": "e1409f32-0caa-4b45-e3db-fb77970e70cb"
      },
      "outputs": [
        {
          "data": {
            "text/plain": [
              "{'AGG'}"
            ]
          },
          "execution_count": 106,
          "metadata": {},
          "output_type": "execute_result"
        }
      ],
      "source": [
        "FrequentWords(\"CGGAGGACTCTAGGTAACGCTTATCAGGTCCATAGGACATTCA\" , 3)"
      ]
    },
    {
      "cell_type": "code",
      "execution_count": 107,
      "metadata": {
        "id": "s3t6pdhhOJ43"
      },
      "outputs": [],
      "source": [
        "# Insert your FrequentWords function here, along with any subroutines you need\n",
        "def FrequencyTable(Text, k):\n",
        "  freqMap = dict()\n",
        "  n = len(Text)\n",
        "  for i in range(0, n - k + 1):\n",
        "    Pattern = Text[i:i+k]\n",
        "    freqMap[Pattern] = freqMap.get(Pattern, 0) + 1\n",
        "  return freqMap\n",
        "\n",
        "def MaxMap(freqMap):\n",
        "  return max(freqMap.values())\n",
        "\n",
        "def FrequentWords(Text, k):\n",
        "  FrequentPatterns = list()\n",
        "  freqMap = FrequencyTable(Text, k)\n",
        "  maxCount = MaxMap(freqMap)\n",
        "  for Pattern in freqMap.keys():\n",
        "    if freqMap[Pattern] == maxCount:\n",
        "      FrequentPatterns.append(Pattern)\n",
        "  return FrequentPatterns\n"
      ]
    },
    {
      "cell_type": "code",
      "execution_count": 108,
      "metadata": {
        "id": "V_nL1nrRONa4"
      },
      "outputs": [],
      "source": [
        "output=FrequentWords(\"AGTGATCTGTACCTGATACCTGAGTACCAGATACGCTCTACGCTCTACGCTCTAGTGATCTGTACCTGAGTACCAGATGCCCGCCACGCTCTGTACCAGATAGTGATCTGACGCTCTACGCTCTAGTGATCTGACGCTCTACGCTCTAGTGATCTGGCCCGCCGCCCGCCGTACCAGATAGTGATCTGTACCTGAGCCCGCCGCCCGCCTACCTGAGTACCAGATAGTGATCTGGCCCGCCGTACCAGATTACCTGATACCTGAGTACCAGATGTACCAGATTACCTGAGTACCAGATAGTGATCTGACGCTCTTACCTGAGTACCAGATAGTGATCTGAGTGATCTGGCCCGCCGCCCGCCACGCTCTGCCCGCCAGTGATCTGACGCTCTGCCCGCCTACCTGAGCCCGCCAGTGATCTGACGCTCTTACCTGAGCCCGCCAGTGATCTGGCCCGCCGCCCGCCTACCTGAGTACCAGATTACCTGAGCCCGCCAGTGATCTGACGCTCTTACCTGAAGTGATCTGGTACCAGATGTACCAGATGTACCAGATAGTGATCTGACGCTCTGTACCAGATGCCCGCCAGTGATCTGGCCCGCCGTACCAGATGCCCGCCGTACCAGATAGTGATCTGGTACCAGATTACCTGAGTACCAGATACGCTCTACGCTCTGCCCGCCAGTGATCTGTACCTGAGCCCGCCTACCTGAGCCCGCCGTACCAGATGTACCAGATAGTGATCTGGCCCGCCGCCCGCCAGTGATCTGTACCTGAAGTGATCTGGTACCAGATGTACCAGATAGTGATCTGAGTGATCTG\" , 12)"
      ]
    },
    {
      "cell_type": "code",
      "execution_count": 109,
      "metadata": {
        "colab": {
          "base_uri": "https://localhost:8080/",
          "height": 35
        },
        "id": "9949rcTwAdoW",
        "outputId": "bb639178-29ed-4b52-b346-53aa5812bd18"
      },
      "outputs": [
        {
          "data": {
            "text/plain": [
              "'GTACCAGATAGT TACCAGATAGTG ACCAGATAGTGA CCAGATAGTGAT CAGATAGTGATC AGATAGTGATCT GATAGTGATCTG'"
            ]
          },
          "execution_count": 109,
          "metadata": {},
          "output_type": "execute_result"
        }
      ],
      "source": [
        "\" \".join(map(str, output))"
      ]
    },
    {
      "cell_type": "markdown",
      "metadata": {
        "id": "1kcV9JXEzJds"
      },
      "source": [
        "#### Problem BA1C: Find the Reverse Complement of a String\n",
        "http://rosalind.info/problems/ba1c/"
      ]
    },
    {
      "cell_type": "code",
      "execution_count": 110,
      "metadata": {
        "colab": {
          "base_uri": "https://localhost:8080/"
        },
        "id": "SjyNHfORzJdt",
        "outputId": "a96f90f0-5a2f-42c3-9e75-ad675df22295"
      },
      "outputs": [
        {
          "name": "stdout",
          "output_type": "stream",
          "text": [
            "['T', 'T', 'T', 'T', 'G', 'G', 'G', 'C', 'C', 'A']\n",
            "['A', 'C', 'C', 'G', 'G', 'G', 'T', 'T', 'T', 'T']\n"
          ]
        }
      ],
      "source": [
        "def ReverseComplement(Text):\n",
        "    complement = []\n",
        "    for i in Text:\n",
        "        if i == \"A\":\n",
        "            complement.append(\"T\")\n",
        "        elif i == \"T\":\n",
        "            complement.append(\"A\")\n",
        "        elif i == \"G\":\n",
        "            complement.append(\"C\")\n",
        "        elif i == \"C\":\n",
        "            complement.append(\"G\")\n",
        "        else:\n",
        "            print(\"Not ACTG!\")\n",
        "\n",
        "    print (complement)\n",
        "\n",
        "    reverse_complement = list(reversed(complement))\n",
        "    print(reverse_complement)\n",
        "\n",
        "\n",
        "    return \"\".join(reverse_complement)\n",
        "\n",
        "assert ReverseComplement(\"AAAACCCGGT\") == 'ACCGGGTTTT'"
      ]
    },
    {
      "cell_type": "code",
      "execution_count": 111,
      "metadata": {
        "colab": {
          "base_uri": "https://localhost:8080/",
          "height": 35
        },
        "id": "SAxUiiynzJdt",
        "outputId": "bb2820f3-9d02-4c17-e2d4-72eee36f5471"
      },
      "outputs": [
        {
          "name": "stdout",
          "output_type": "stream",
          "text": [
            "['A', 'A', 'C', 'A', 'C', 'A', 'G']\n",
            "['G', 'A', 'C', 'A', 'C', 'A', 'A']\n"
          ]
        },
        {
          "data": {
            "text/plain": [
              "'GACACAA'"
            ]
          },
          "execution_count": 111,
          "metadata": {},
          "output_type": "execute_result"
        }
      ],
      "source": [
        "ReverseComplement(\"TTGTGTC\")"
      ]
    },
    {
      "cell_type": "markdown",
      "metadata": {
        "id": "ed0Qq4xMzJdt"
      },
      "source": [
        "#### Problem BA1D: Find All Occurances of a Pattern in a String\n",
        "http://rosalind.info/problems/ba1d/"
      ]
    },
    {
      "cell_type": "code",
      "execution_count": 112,
      "metadata": {
        "id": "C1TRUlQPzJdt"
      },
      "outputs": [],
      "source": [
        "def LocatePatternMatch(Pattern, Genome):\n",
        "    match_spot = []\n",
        "    for i in range(len(Genome) - len(Pattern) + 1):\n",
        "        if Genome[i : i + len(Pattern)] == Pattern:\n",
        "            match_spot.append(i)\n",
        "\n",
        "    return match_spot\n",
        "\n",
        "assert LocatePatternMatch(\"ATAT\", \"GATATATGCATATACTT\") == [1, 3, 9]"
      ]
    },
    {
      "cell_type": "code",
      "execution_count": 113,
      "metadata": {
        "colab": {
          "base_uri": "https://localhost:8080/"
        },
        "id": "GUPFCY65zJdt",
        "outputId": "582d8119-8b97-4d05-f081-a77049498394"
      },
      "outputs": [
        {
          "data": {
            "text/plain": [
              "[0, 1, 12]"
            ]
          },
          "execution_count": 113,
          "metadata": {},
          "output_type": "execute_result"
        }
      ],
      "source": [
        "LocatePatternMatch(\"AA\", \"AAACATAGGATCAAC\")"
      ]
    },
    {
      "cell_type": "markdown",
      "metadata": {
        "id": "8uIo3d7XzJdu"
      },
      "source": [
        "#### Problem BA1E: Find Clumps in a String\n",
        "http://rosalind.info/problems/ba1e/"
      ]
    },
    {
      "cell_type": "code",
      "execution_count": 114,
      "metadata": {
        "id": "nVYavx2SzJdu"
      },
      "outputs": [],
      "source": [
        "def FindClumps(Genome, kmer_length, clump_length, times):\n",
        "    # define length to search within\n",
        "    clump_overlap = len(Genome) - clump_length + 1\n",
        "    # kmer_overlap is looking within clump\n",
        "    kmer_overlap = clump_length - kmer_length + 1\n",
        "    # define kmers greater than times\n",
        "    keepers = set()\n",
        "    for clump_index in range(clump_overlap):\n",
        "        # define clump window\n",
        "        clump_start = clump_index\n",
        "        clump_end = clump_index + clump_length\n",
        "        clump = Genome[clump_start:clump_end]\n",
        "        # define dictionary of kmers\n",
        "        kmer_counts = {}\n",
        "        for kmer_index in range(kmer_overlap):\n",
        "            kmer_start = kmer_index\n",
        "            kmer_end = kmer_index + kmer_length\n",
        "            kmer = clump[kmer_start:kmer_end]\n",
        "            if kmer in kmer_counts:\n",
        "                # if kmer in dictionary, add count, +=\n",
        "                kmer_counts[kmer] += 1\n",
        "            else:\n",
        "                # if kmer not in dictionary, add it\n",
        "                kmer_counts[kmer] = 1\n",
        "        # check if kmers occur greater than times\n",
        "        for kmer in kmer_counts:\n",
        "            if kmer_counts[kmer] >= times:\n",
        "                keepers.add(kmer)\n",
        "\n",
        "    return keepers\n",
        "\n",
        "assert FindClumps(\"CGGACTCGACAGATGTGAAGAAATGTGAAGACTGAGTGAAGAGAAGAGGAAACACGACACGACATTGCGACATAATGTACGAATGTAATGTGCCTATGGC\", 5, 75, 4) == {'AATGT', 'CGACA', 'GAAGA'}"
      ]
    },
    {
      "cell_type": "code",
      "execution_count": 115,
      "metadata": {
        "id": "mEIhz8PYzJdu",
        "outputId": "3d2beef3-836f-48c8-cb14-783153f8b19b"
      },
      "outputs": [
        {
          "data": {
            "text/plain": [
              "{'AATGT', 'CGACA', 'GAAGA'}"
            ]
          },
          "execution_count": 115,
          "metadata": {},
          "output_type": "execute_result"
        }
      ],
      "source": [
        "FindClumps(\"CGGACTCGACAGATGTGAAGAAATGTGAAGACTGAGTGAAGAGAAGAGGAAACACGACACGACATTGCGACATAATGTACGAATGTAATGTGCCTATGGC\",\n",
        "5, 75, 4)"
      ]
    },
    {
      "cell_type": "markdown",
      "metadata": {
        "id": "fOsOdfLnzJdv"
      },
      "source": [
        "#### Problem BA1F: Find Position in Genome to Minimize Skew\n",
        "http://rosalind.info/problems/ba1f/"
      ]
    },
    {
      "cell_type": "code",
      "execution_count": 116,
      "metadata": {
        "colab": {
          "base_uri": "https://localhost:8080/"
        },
        "id": "sxTtf_NPzJdv",
        "outputId": "4e9f8b91-d736-43e1-93e4-dc94c7c0e78d"
      },
      "outputs": [
        {
          "name": "stdout",
          "output_type": "stream",
          "text": [
            "0 -1 -2 -3 -4 -3 -3\n",
            "5\n"
          ]
        }
      ],
      "source": [
        "sequence = \"CCCCGT\"\n",
        "skew_values = [0]  # Initialize the first skew value as 0\n",
        "skew = 0\n",
        "\n",
        "for i in range(len(sequence)):\n",
        "    if sequence[i] == 'G':\n",
        "        skew += 1\n",
        "    elif sequence[i] == 'C':\n",
        "        skew -= 1\n",
        "    skew_values.append(skew)\n",
        "\n",
        "skew_output = ' '.join(map(str, skew_values))\n",
        "print(skew_output)\n",
        "print(i)"
      ]
    },
    {
      "cell_type": "code",
      "execution_count": 117,
      "metadata": {
        "id": "h-zm0ihWzJdv"
      },
      "outputs": [],
      "source": [
        "def MinimizeSkew(genome):\n",
        "    skew_value = 0\n",
        "    min_skew_value = 0\n",
        "    skew_position = []\n",
        "    # enumerate (genome, 1) means enumeration starts at 1 instead of 0\n",
        "    for i, base in enumerate(genome, 1):\n",
        "        if base.upper() == 'G':\n",
        "            skew_value = skew_value + 1\n",
        "        elif base.upper() == 'C':\n",
        "            skew_value = skew_value - 1\n",
        "        # C will cause decrease in value, check for new min\n",
        "            if skew_value == min_skew_value:\n",
        "                skew_position.append(i)\n",
        "            elif skew_value < min_skew_value:\n",
        "                min_skew_value = skew_value\n",
        "                # recreate skew_position list if new min vale\n",
        "                skew_position = [i]\n",
        "\n",
        "    return skew_position\n",
        "\n",
        "assert MinimizeSkew(\"CCTATCGGTGGATTAGCATGTCCCTGTACGTTTCGCCGCGAACTAGTTCACACGGCTTGATGGCAAATGGTTTTTCCGGCGACCGTAATCGTCCACCGAG\") == [53, 97]"
      ]
    },
    {
      "cell_type": "code",
      "execution_count": 118,
      "metadata": {
        "colab": {
          "base_uri": "https://localhost:8080/"
        },
        "id": "w3KN3FkWMnch",
        "outputId": "0a75e49f-9078-4910-e549-9d6f4a98a473"
      },
      "outputs": [
        {
          "data": {
            "text/plain": [
              "[6]"
            ]
          },
          "execution_count": 118,
          "metadata": {},
          "output_type": "execute_result"
        }
      ],
      "source": [
        "MinimizeSkew('CCTATCGG')"
      ]
    },
    {
      "cell_type": "code",
      "execution_count": 119,
      "metadata": {
        "id": "q3JhG-B4zJdv"
      },
      "outputs": [],
      "source": [
        "\n",
        "\n",
        "def minimum_skew(genome: str) -> list[int]:\n",
        "    \"\"\"Find positions in a genome where the skew diagram attains a minimum.\"\"\"\n",
        "    skew = [0]  # Initialize the skew diagram with the starting value 0\n",
        "    min_skew = float('inf')  # Initialize the minimum skew with positive infinity\n",
        "    min_skew_positions = []  # Initialize the list of positions with minimum skew\n",
        "\n",
        "    # Compute the skew at each position in the genome\n",
        "    for i in range(len(genome)):\n",
        "        if genome[i] == 'C':\n",
        "            skew.append(skew[i] - 1)\n",
        "        elif genome[i] == 'G':\n",
        "            skew.append(skew[i] + 1)\n",
        "        else:\n",
        "            skew.append(skew[i])\n",
        "\n",
        "        # Update the minimum skew and positions if a new minimum is found\n",
        "        if skew[-1] < min_skew:\n",
        "            min_skew = skew[-1]\n",
        "            min_skew_positions = [i + 1]  # Add 1 to convert from 0-based index to 1-based index\n",
        "        elif skew[-1] == min_skew:\n",
        "            min_skew_positions.append(i + 1)  # Add additional position with the same minimum skew\n",
        "\n",
        "    return min_skew_positions"
      ]
    },
    {
      "cell_type": "code",
      "execution_count": 120,
      "metadata": {
        "id": "9K_yC0-HzJdv",
        "outputId": "f8e098ac-3f29-4585-b5c7-4bd424230245"
      },
      "outputs": [
        {
          "data": {
            "text/plain": [
              "[53, 97]"
            ]
          },
          "execution_count": 120,
          "metadata": {},
          "output_type": "execute_result"
        }
      ],
      "source": [
        "MinimizeSkew(\"CCTATCGGTGGATTAGCATGTCCCTGTACGTTTCGCCGCGAACTAGTTCACACGGCTTGATGGCAAATGGTTTTTCCGGCGACCGTAATCGTCCACCGAG\")"
      ]
    },
    {
      "cell_type": "markdown",
      "metadata": {
        "id": "8_p9_yi7zJdv"
      },
      "source": [
        "#### Problem BA1G: Compute Hamming Distance Between Two Strings\n",
        "http://rosalind.info/problems/ba1g/"
      ]
    },
    {
      "cell_type": "code",
      "execution_count": 121,
      "metadata": {
        "id": "cHBMjo9PzJdv"
      },
      "outputs": [],
      "source": [
        "def HammingDistance(string1, string2):\n",
        "\n",
        "    \"This function calculates the Hamming Distance between two strings of equal length.\"\n",
        "\n",
        "    # check if strings are the same length\n",
        "    # alternate: assert len(string1) == len(string2), \"Strings must be same length!\"\n",
        "    if len(string1) != len(string2):\n",
        "        print(\"Strings must be the same length!\")\n",
        "\n",
        "    number_mismatches = 0\n",
        "    string_length = len(string1)\n",
        "    for i in range(string_length):\n",
        "        if string1[i] != string2[i]:\n",
        "            number_mismatches += 1\n",
        "\n",
        "    return number_mismatches\n",
        "\n",
        "assert HammingDistance(\"AACC\", \"AAAA\") == 2"
      ]
    },
    {
      "cell_type": "code",
      "execution_count": 122,
      "metadata": {
        "id": "EcDiG6E6zJdv",
        "outputId": "1f446a61-16a8-4294-fa11-b270602b91e9"
      },
      "outputs": [
        {
          "data": {
            "text/plain": [
              "3"
            ]
          },
          "execution_count": 122,
          "metadata": {},
          "output_type": "execute_result"
        }
      ],
      "source": [
        "HammingDistance(\"GGGCCGTTGGT\", \"GGACCGTTGAC\")"
      ]
    },
    {
      "cell_type": "markdown",
      "metadata": {
        "id": "8Hl1FIsFzJdw"
      },
      "source": [
        "#### Problem BA1H: Find All Approximate Occurances of a Pattern in a String\n",
        "http://rosalind.info/problems/ba1h/"
      ]
    },
    {
      "cell_type": "code",
      "execution_count": 123,
      "metadata": {
        "id": "sSKKlYMpzJdw"
      },
      "outputs": [],
      "source": [
        "# from ba1g.py import HammingDistance\n",
        "\n",
        "def ApproxPatternMatch(Pattern, Text, d):\n",
        "    matches = []\n",
        "    for i in range(len(Text) - len(Pattern) + 1):\n",
        "        if HammingDistance(Text[i : i + len(Pattern)], Pattern) <= d:\n",
        "            matches.append(i)\n",
        "\n",
        "    return matches\n",
        "\n",
        "assert ApproxPatternMatch(\"ATTCTGGA\", \"CGCCCGAATCCAGAACGCATTCCCATATTTCGGGACCACTGGCCTCCACGGTACGGACGTCAATCAAATGCCTAGCGGCTTGTGGTTTCTCCTACGCTCC\", 3) == [6, 7, 26, 27, 78]"
      ]
    },
    {
      "cell_type": "code",
      "execution_count": 124,
      "metadata": {
        "id": "YNZuNEnEzJdw",
        "outputId": "92d67a59-7754-4857-8550-19c6da7edcc3"
      },
      "outputs": [
        {
          "data": {
            "text/plain": [
              "[6, 7, 26, 27, 78]"
            ]
          },
          "execution_count": 124,
          "metadata": {},
          "output_type": "execute_result"
        }
      ],
      "source": [
        "ApproxPatternMatch(\"ATTCTGGA\", \"CGCCCGAATCCAGAACGCATTCCCATATTTCGGGACCACTGGCCTCCACGGTACGGACGTCAATCAAATGCCTAGCGGCTTGTGGTTTCTCCTACGCTCC\", 3)"
      ]
    },
    {
      "cell_type": "markdown",
      "metadata": {
        "id": "mBCaJJbwzJdw"
      },
      "source": [
        "#### Problem BA1I: Find the Most Frequent Mismatches in a String\n",
        "http://rosalind.info/problems/ba1i/"
      ]
    },
    {
      "cell_type": "code",
      "execution_count": 125,
      "metadata": {
        "id": "HKzflWYMzJdw"
      },
      "outputs": [],
      "source": [
        "# from ba1g.py import HammingDistance\n",
        "\n",
        "def HammingDistance(string1, string2):\n",
        "\n",
        "    \"This function calculates the Hamming Distance between two strings of equal length.\"\n",
        "\n",
        "    # check if strings are the same length\n",
        "    # alternate: assert len(string1) == len(string2), \"Strings must be same length!\"\n",
        "    if len(string1) != len(string2):\n",
        "        print(\"Strings must be the same length!\")\n",
        "\n",
        "    number_mismatches = 0\n",
        "    string_length = len(string1)\n",
        "    for i in range(string_length):\n",
        "        if string1[i] != string2[i]:\n",
        "            number_mismatches += 1\n",
        "\n",
        "    return number_mismatches\n",
        "\n",
        "assert HammingDistance(\"AACC\", \"AAAA\") == 2"
      ]
    },
    {
      "cell_type": "code",
      "execution_count": 126,
      "metadata": {
        "id": "8cxEJc_6zJdw"
      },
      "outputs": [],
      "source": [
        "def GenerateMismatchedKmers(kmer, h_dist):\n",
        "    mismatched_list = []\n",
        "    if h_dist == 0:\n",
        "        return [kmer]\n",
        "    elif len(kmer) == 1:\n",
        "        return [\"A\", \"C\", \"G\", \"T\"]\n",
        "\n",
        "    # generate neighbor mismatches\n",
        "    for neighbor in GenerateMismatchedKmers(kmer[1:], h_dist):\n",
        "        # print(neighbor)\n",
        "        if HammingDistance(kmer[1:], neighbor) < h_dist:\n",
        "            mismatched_list += [\"A\" + neighbor, \"C\" + neighbor, \"G\" + neighbor, \"T\" + neighbor]\n",
        "            #print('1',mismatched_list)\n",
        "        else:\n",
        "            mismatched_list += [kmer[0] + neighbor]\n",
        "          #print('2',mismatched_list)\n",
        "\n",
        "    return mismatched_list\n",
        "\n",
        "assert GenerateMismatchedKmers(\"CAT\", 1) == ['CAA', 'CAC', 'CAG', 'AAT', 'CAT', 'GAT', 'TAT', 'CCT', 'CGT', 'CTT']"
      ]
    },
    {
      "cell_type": "code",
      "execution_count": 127,
      "metadata": {
        "colab": {
          "base_uri": "https://localhost:8080/"
        },
        "id": "R67o_aFMKNyH",
        "outputId": "19d79cf7-428c-420f-ddc9-ba4ee9af5be0"
      },
      "outputs": [
        {
          "data": {
            "text/plain": [
              "['CGTA',\n",
              " 'CGTC',\n",
              " 'CGTG',\n",
              " 'CGAT',\n",
              " 'CGCT',\n",
              " 'CGGT',\n",
              " 'CATT',\n",
              " 'CCTT',\n",
              " 'AGTT',\n",
              " 'CGTT',\n",
              " 'GGTT',\n",
              " 'TGTT',\n",
              " 'CTTT']"
            ]
          },
          "execution_count": 127,
          "metadata": {},
          "output_type": "execute_result"
        }
      ],
      "source": [
        "GenerateMismatchedKmers('CGTT',1)"
      ]
    },
    {
      "cell_type": "code",
      "execution_count": 128,
      "metadata": {
        "id": "UpZ4Wl1gzJdw"
      },
      "outputs": [],
      "source": [
        "def FindFrequentMismatchWords(Text, k, d):\n",
        "    kmerDictionary = {}\n",
        "    for start in range(len(Text) - k + 1):  # start= 1\n",
        "                        #5-4=1+1 =2\n",
        "\n",
        "        kmer = Text[start : start + k] #kmer='ACGT'\n",
        "\n",
        "        # Call GenerateMismatchedKmers with kmer , Hamming Distance value\n",
        "        mismatched_kmers = GenerateMismatchedKmers(kmer, d)\n",
        "\n",
        "        for km in mismatched_kmers:\n",
        "            if km in kmerDictionary:\n",
        "                kmerDictionary[km] += 1\n",
        "            else:\n",
        "                kmerDictionary[km] = 1\n",
        "\n",
        "\n",
        "\n",
        "    maxCount = max(kmerDictionary.values())\n",
        "    print (maxCount)\n",
        "    frequent_kmers = []\n",
        "    # iterate through dictionary for kmer(s) with count equal to maxCount\n",
        "    for kmer, count in kmerDictionary.items():\n",
        "        if count == maxCount:\n",
        "            frequent_kmers.append(kmer)\n",
        "\n",
        "    return frequent_kmers"
      ]
    },
    {
      "cell_type": "code",
      "execution_count": 129,
      "metadata": {
        "colab": {
          "base_uri": "https://localhost:8080/"
        },
        "id": "5Jt9zoNmzJdw",
        "outputId": "1fea0f30-c4ec-40cf-ee0d-9bcced9a2e76"
      },
      "outputs": [
        {
          "name": "stdout",
          "output_type": "stream",
          "text": [
            "12\n"
          ]
        },
        {
          "data": {
            "text/plain": [
              "['CCAA']"
            ]
          },
          "execution_count": 129,
          "metadata": {},
          "output_type": "execute_result"
        }
      ],
      "source": [
        "FindFrequentMismatchWords(\"CGCCCGAATCCAGAACGCATTCCCATATTTCGGGACCACTGGCCTCCACGGTACGGACGTCAATCAAATGCCTAGCGGCTTGTGGTTTCTCCTACGCTCC\", 4, 1)"
      ]
    },
    {
      "cell_type": "markdown",
      "metadata": {
        "id": "ipkfwOm5zJd9"
      },
      "source": [
        "#### Problem BA1J: Finding the Most Frequent Mismatches in String and its Complement\n",
        "http://rosalind.info/problems/ba1j/"
      ]
    },
    {
      "cell_type": "code",
      "execution_count": 130,
      "metadata": {
        "id": "Q_E61v4qzJd9"
      },
      "outputs": [],
      "source": [
        "# from ba1c.py import ReverseComplement\n",
        "# from ba1g.py import HammingDistance\n",
        "\n",
        "def ReverseComplement(Text):\n",
        "    complement = []\n",
        "    for i in Text:\n",
        "        if i == \"A\":\n",
        "            complement.append(\"T\")\n",
        "        elif i == \"T\":\n",
        "            complement.append(\"A\")\n",
        "        elif i == \"G\":\n",
        "            complement.append(\"C\")\n",
        "        elif i == \"C\":\n",
        "            complement.append(\"G\")\n",
        "        else:\n",
        "            print(\"Not ACTG!\")\n",
        "\n",
        "    reverse_complement = list(reversed(complement))\n",
        "\n",
        "    return \"\".join(reverse_complement)\n",
        "\n",
        "assert ReverseComplement(\"AAAACCCGGT\") == 'ACCGGGTTTT'"
      ]
    },
    {
      "cell_type": "code",
      "execution_count": 131,
      "metadata": {
        "id": "EYhbSlyYzJd-"
      },
      "outputs": [],
      "source": [
        "def HammingDistance(string1, string2):\n",
        "\n",
        "    \"This function calculates the Hamming Distance between two strings of equal length.\"\n",
        "\n",
        "    # check if strings are the same length\n",
        "    # alternate: assert len(string1) == len(string2), \"Strings must be same length!\"\n",
        "    if len(string1) != len(string2):\n",
        "        print(\"Strings must be the same length!\")\n",
        "\n",
        "    number_mismatches = 0\n",
        "    string_length = len(string1)\n",
        "    for i in range(string_length):\n",
        "        if string1[i] != string2[i]:\n",
        "            number_mismatches += 1\n",
        "\n",
        "    return number_mismatches\n",
        "\n",
        "assert HammingDistance(\"AACC\", \"AAAA\") == 2"
      ]
    },
    {
      "cell_type": "code",
      "execution_count": 132,
      "metadata": {
        "id": "L6vMGYtwzJd-"
      },
      "outputs": [],
      "source": [
        "def GenerateMismatchedKmers(kmer, h_dist):\n",
        "    mismatched_list = []\n",
        "    if h_dist == 0:\n",
        "        return [kmer]\n",
        "    elif len(kmer) == 1:\n",
        "        return [\"A\", \"C\", \"G\", \"T\"]\n",
        "\n",
        "    # generate neighbor mismatches\n",
        "    for neighbor in GenerateMismatchedKmers(kmer[1:], h_dist):\n",
        "        if HammingDistance(kmer[1:], neighbor) < h_dist:\n",
        "            mismatched_list += [\"A\" + neighbor, \"C\" + neighbor, \"G\" + neighbor, \"T\" + neighbor]\n",
        "        else:\n",
        "            mismatched_list += [kmer[0] + neighbor]\n",
        "\n",
        "    return mismatched_list\n",
        "\n",
        "assert GenerateMismatchedKmers(\"CAT\", 1) == ['CAA', 'CAC', 'CAG', 'AAT', 'CAT', 'GAT', 'TAT', 'CCT', 'CGT', 'CTT']"
      ]
    },
    {
      "cell_type": "code",
      "execution_count": 133,
      "metadata": {
        "id": "C9QuSgT_zJd-"
      },
      "outputs": [],
      "source": [
        "def FindFrequentMismatchWordsComplement(Text, k, d):\n",
        "    kmerDictionary = {}\n",
        "    for start in range(len(Text) - k + 1):\n",
        "        kmer = Text[start : start + k]\n",
        "        # make rev kmer\n",
        "        reversed_kmer = ReverseComplement(kmer)\n",
        "        # Call GenerateMismatchedKmers with kmer , Hamming Distance value\n",
        "        mismatched_kmers = GenerateMismatchedKmers(kmer, d)\n",
        "        # extend mismatched kmers to include rev possible kmers\n",
        "        mismatched_kmers.extend(GenerateMismatchedKmers(reversed_kmer, d))\n",
        "        for km in mismatched_kmers:\n",
        "            if km in kmerDictionary:\n",
        "                kmerDictionary[km] += 1\n",
        "            else:\n",
        "                kmerDictionary[km] = 1\n",
        "    maxCount = max(kmerDictionary.values())\n",
        "    frequent_kmers = []\n",
        "    # iterate through dictionary for kmer(s) with count equal to maxCount\n",
        "    for kmer, count in kmerDictionary.items():\n",
        "        if count == maxCount:\n",
        "            frequent_kmers.append(kmer)\n",
        "\n",
        "    return frequent_kmers\n",
        "\n",
        "assert FindFrequentMismatchWordsComplement(\"ACGTTGCATGTCGCATGATGCATGAGAGCT\", 4, 1) == ['ACAT', 'ATGT']"
      ]
    },
    {
      "cell_type": "code",
      "execution_count": 134,
      "metadata": {
        "id": "bck5aU39zJd-",
        "outputId": "f385c740-72df-423e-814d-150b52e1f29d"
      },
      "outputs": [
        {
          "data": {
            "text/plain": [
              "['ACAT', 'ATGT']"
            ]
          },
          "execution_count": 134,
          "metadata": {},
          "output_type": "execute_result"
        }
      ],
      "source": [
        "FindFrequentMismatchWordsComplement(\"ACGTTGCATGTCGCATGATGCATGAGAGCT\", 4, 1)"
      ]
    },
    {
      "cell_type": "markdown",
      "metadata": {},
      "source": [
        "## Chapter 3"
      ]
    },
    {
      "cell_type": "markdown",
      "metadata": {},
      "source": [
        "#### Problem BA3A: Generate the k-mer Composition of a String\n",
        "http://rosalind.info/problems/ba3a/"
      ]
    },
    {
      "cell_type": "code",
      "execution_count": 135,
      "metadata": {},
      "outputs": [],
      "source": [
        "def GenKmerComp(k, text):\n",
        "    # create list to store kmers\n",
        "    unsorted_kmers = []\n",
        "    # define region to iterate through\n",
        "    for i in range (len(text) - k + 1):\n",
        "        # define kmer\n",
        "        kmer = text[i : i + k]\n",
        "        # add kmer to list\n",
        "        unsorted_kmers.append(kmer)\n",
        "    # sort list in lexicographic order\n",
        "    sorted_kmers = sorted(unsorted_kmers)\n",
        "\n",
        "    return sorted_kmers\n",
        "\n",
        "    # also can use .sort(), but doesn't return sorted list\n",
        "    # unsorted_kmers.sort()\n",
        "    # return unsorted_kmers\n",
        "\n",
        "assert(GenKmerComp(5, \"CAATCCAAC\") == ['AATCC', 'ATCCA', 'CAATC', 'CCAAC', 'TCCAA'])"
      ]
    },
    {
      "cell_type": "code",
      "execution_count": 136,
      "metadata": {},
      "outputs": [
        {
          "data": {
            "text/plain": [
              "['AATCC', 'ATCCA', 'CAATC', 'CCAAC', 'TCCAA']"
            ]
          },
          "execution_count": 136,
          "metadata": {},
          "output_type": "execute_result"
        }
      ],
      "source": [
        "GenKmerComp(5, \"CAATCCAAC\")"
      ]
    },
    {
      "cell_type": "markdown",
      "metadata": {},
      "source": [
        "\n",
        "\n",
        "---\n",
        "\n"
      ]
    },
    {
      "cell_type": "code",
      "execution_count": 137,
      "metadata": {},
      "outputs": [],
      "source": [
        "def composition(k, string):\n",
        "    result = []\n",
        "    for i in range(len(string) - k + 1):\n",
        "        result.append(string[i:i+k])\n",
        "    return result"
      ]
    },
    {
      "cell_type": "code",
      "execution_count": 138,
      "metadata": {},
      "outputs": [
        {
          "data": {
            "text/plain": [
              "['CAATC', 'AATCC', 'ATCCA', 'TCCAA', 'CCAAC']"
            ]
          },
          "execution_count": 138,
          "metadata": {},
          "output_type": "execute_result"
        }
      ],
      "source": [
        "composition(5, \"CAATCCAAC\")"
      ]
    },
    {
      "cell_type": "markdown",
      "metadata": {},
      "source": [
        "\n",
        "\n",
        "---\n",
        "\n"
      ]
    },
    {
      "cell_type": "code",
      "execution_count": 139,
      "metadata": {},
      "outputs": [],
      "source": [
        "def comp(k, string):\n",
        "  result = [string[i:i+k] for i in range(len(string) - k + 1)]\n",
        "\n",
        "  return result"
      ]
    },
    {
      "cell_type": "code",
      "execution_count": 140,
      "metadata": {},
      "outputs": [
        {
          "data": {
            "text/plain": [
              "['CAATC', 'AATCC', 'ATCCA', 'TCCAA', 'CCAAC']"
            ]
          },
          "execution_count": 140,
          "metadata": {},
          "output_type": "execute_result"
        }
      ],
      "source": [
        "comp(5, \"CAATCCAAC\")"
      ]
    },
    {
      "cell_type": "markdown",
      "metadata": {},
      "source": [
        "#### Problem BA3B: Reconstruct a String from its Genome Path\n",
        "http://rosalind.info/problems/ba3b/"
      ]
    },
    {
      "cell_type": "code",
      "execution_count": 141,
      "metadata": {},
      "outputs": [],
      "source": [
        "def StringRecon(kmers):\n",
        "    \"Generates a string from genome path of kmers k - 1, kmers must be given in a list\"\n",
        "    # get length of string to generate\n",
        "    text = [kmers[0]]\n",
        "    # iterate through items in kmer list\n",
        "    for i in kmers[1:]:\n",
        "        # iterate through each base in kmer\n",
        "        text.append(i[-1])\n",
        "\n",
        "    # convert list to string\n",
        "    joined = ''.join(text)\n",
        "\n",
        "    return joined\n",
        "\n",
        "assert(StringRecon(['ACCGA', 'CCGAA', 'CGAAG', 'GAAGC', 'AAGCT']) == 'ACCGAAGCT')"
      ]
    },
    {
      "cell_type": "code",
      "execution_count": 142,
      "metadata": {},
      "outputs": [
        {
          "data": {
            "text/plain": [
              "'ACCGAAGCT'"
            ]
          },
          "execution_count": 142,
          "metadata": {},
          "output_type": "execute_result"
        }
      ],
      "source": [
        "StringRecon(['ACCGA', 'CCGAA', 'CGAAG', 'GAAGC', 'AAGCT'])"
      ]
    },
    {
      "cell_type": "markdown",
      "metadata": {},
      "source": [
        "\n",
        "\n",
        "---\n",
        "\n"
      ]
    },
    {
      "cell_type": "code",
      "execution_count": 143,
      "metadata": {},
      "outputs": [],
      "source": [
        "def genome(sequences):\n",
        "    string = sequences[0]\n",
        "    for i in range(1, len(sequences)):\n",
        "        string += sequences[i][-1]\n",
        "    return string"
      ]
    },
    {
      "cell_type": "code",
      "execution_count": 144,
      "metadata": {},
      "outputs": [
        {
          "data": {
            "text/plain": [
              "'ACCGAAGCT'"
            ]
          },
          "execution_count": 144,
          "metadata": {},
          "output_type": "execute_result"
        }
      ],
      "source": [
        "genome(['ACCGA', 'CCGAA', 'CGAAG', 'GAAGC', 'AAGCT'])"
      ]
    },
    {
      "cell_type": "markdown",
      "metadata": {},
      "source": [
        "#### Problem BA3C: Construct the Overlap Graph of a Collection of Kmers\n",
        "\n",
        "http://rosalind.info/problems/ba3c/"
      ]
    },
    {
      "cell_type": "code",
      "execution_count": 145,
      "metadata": {},
      "outputs": [],
      "source": [
        "def GeneratePrefix(kmers):\n",
        "    \"Generates the k-1 prefix and suffix of kmers\"\n",
        "    prefixes = {}\n",
        "    for kmer in kmers:\n",
        "        prefix = kmer[:-1]\n",
        "        prefixes[kmer] = prefix\n",
        "\n",
        "    return prefixes\n",
        "\n",
        "def GenerateSuffix(kmers):\n",
        "    \"Generates the k-1 prefix and suffix of kmers\"\n",
        "    suffixes = {}\n",
        "    for kmer in kmers:\n",
        "        suffix = kmer[1:]\n",
        "        suffixes[kmer] = suffix\n",
        "\n",
        "    return suffixes\n",
        "\n",
        "def OverlapGraph(kmers):\n",
        "    \"\"\"Forms the overlap graph of a collection of patterns.\"\"\"\n",
        "    prefix_dict = GeneratePrefix(kmers)\n",
        "    suffixes_dict = GenerateSuffix(kmers)\n",
        "\n",
        "    matches = []\n",
        "\n",
        "    for key_p, value_p in prefix_dict.items():\n",
        "\n",
        "        # check if value of prefixes equals value of suffixes\n",
        "        for key_s, value_s in suffixes_dict.items():\n",
        "             if value_p == value_s:\n",
        "                match_pair = (key_s, key_p)\n",
        "                matches.append(match_pair)\n",
        "\n",
        "\n",
        "    formatted_data = []\n",
        "\n",
        "    for pair in matches:\n",
        "        formatted_data.append(f\"{pair[0]} -> {pair[1]}\")\n",
        "\n",
        "    joined_data = '\\n'.join(formatted_data)\n",
        "\n",
        "    return joined_data"
      ]
    },
    {
      "cell_type": "code",
      "execution_count": 146,
      "metadata": {},
      "outputs": [
        {
          "data": {
            "text/plain": [
              "'CATGC -> ATGCG\\nGGCAT -> GCATG\\nGCATG -> CATGC\\nAGGCA -> GGCAT'"
            ]
          },
          "execution_count": 146,
          "metadata": {},
          "output_type": "execute_result"
        }
      ],
      "source": [
        "OverlapGraph(['ATGCG', 'GCATG', 'CATGC', 'AGGCA', 'GGCAT'])"
      ]
    },
    {
      "cell_type": "markdown",
      "metadata": {},
      "source": [
        "----------------------\n"
      ]
    },
    {
      "cell_type": "markdown",
      "metadata": {},
      "source": [
        "#### Problem BA3D: Construct the De Bruijn Graph of a String"
      ]
    },
    {
      "cell_type": "code",
      "execution_count": 147,
      "metadata": {},
      "outputs": [],
      "source": [
        "def de_bruijn_graph_from_string(k, text):\n",
        "    # Create a dictionary to store the adjacency list\n",
        "    adjacency_list = {}\n",
        "\n",
        "    # Iterate through all k-mers in the text\n",
        "    for i in range(len(text) - k + 1):\n",
        "        kmer = text[i:i+k]\n",
        "        prefix = kmer[:-1]\n",
        "        suffix = kmer[1:]\n",
        "\n",
        "        # Add the k-1 mer to the adjacency list\n",
        "        if prefix in adjacency_list:\n",
        "            adjacency_list[prefix].append(suffix)\n",
        "        else:\n",
        "            adjacency_list[prefix] = [suffix]\n",
        "\n",
        "    return adjacency_list\n",
        "\n",
        "\n"
      ]
    },
    {
      "cell_type": "code",
      "execution_count": 148,
      "metadata": {},
      "outputs": [
        {
          "name": "stdout",
          "output_type": "stream",
          "text": [
            "AC -> CG\n",
            "CG -> GT\n",
            "GT -> TG,TA\n",
            "TG -> GT\n",
            "TA -> AT\n",
            "AT -> TA\n"
          ]
        }
      ],
      "source": [
        "# Example usage\n",
        "k = 3\n",
        "text = \"ACGTGTATA\"\n",
        "result = de_bruijn_graph_from_string(k, text)\n",
        "\n",
        "# Print the adjacency list\n",
        "for node, neighbors in result.items():\n",
        "    print(node + \" ->\", \",\".join(neighbors))"
      ]
    },
    {
      "cell_type": "code",
      "execution_count": 149,
      "metadata": {},
      "outputs": [
        {
          "data": {
            "text/plain": [
              "dict_items([('AC', ['CG']), ('CG', ['GT']), ('GT', ['TG', 'TA']), ('TG', ['GT']), ('TA', ['AT']), ('AT', ['TA'])])"
            ]
          },
          "execution_count": 149,
          "metadata": {},
          "output_type": "execute_result"
        }
      ],
      "source": [
        "result.items()"
      ]
    },
    {
      "cell_type": "markdown",
      "metadata": {},
      "source": [
        "Problem BA3E: Construct the De Bruijn Graph of a Collection of k-mers\n",
        "\n",
        "https://rosalind.info/problems/ba3e/"
      ]
    },
    {
      "cell_type": "code",
      "execution_count": 150,
      "metadata": {},
      "outputs": [],
      "source": [
        "def de_bruijn_graph_from_kmers(kmers):\n",
        "    edges = []\n",
        "    nodes = set()\n",
        "    for kmer in kmers:\n",
        "        prefix = kmer[:-1]\n",
        "        suffix = kmer[1:]\n",
        "        edges.append((prefix, suffix))\n",
        "        nodes.add(prefix)\n",
        "        nodes.add(suffix)\n",
        "    graph = {node: [] for node in nodes}\n",
        "    print('*')\n",
        "    print(graph)\n",
        "    for edge in edges:\n",
        "        graph[edge[0]].append(edge[1])\n",
        "        print(graph)\n",
        "\n",
        "\n",
        "\n",
        "\n",
        "    output = []\n",
        "    for node in graph:\n",
        "        neighbors = \",\".join(graph[node])\n",
        "        output.append(f\"{node} -> {neighbors}\")\n",
        "\n",
        "    return output"
      ]
    },
    {
      "cell_type": "code",
      "execution_count": 151,
      "metadata": {},
      "outputs": [
        {
          "name": "stdout",
          "output_type": "stream",
          "text": [
            "*\n",
            "{'GGG': [], 'GGA': [], 'AGG': [], 'GAG': [], 'CAG': []}\n",
            "{'GGG': [], 'GGA': [], 'AGG': [], 'GAG': ['AGG'], 'CAG': []}\n",
            "{'GGG': [], 'GGA': [], 'AGG': [], 'GAG': ['AGG'], 'CAG': ['AGG']}\n",
            "{'GGG': ['GGG'], 'GGA': [], 'AGG': [], 'GAG': ['AGG'], 'CAG': ['AGG']}\n",
            "{'GGG': ['GGG', 'GGA'], 'GGA': [], 'AGG': [], 'GAG': ['AGG'], 'CAG': ['AGG']}\n",
            "{'GGG': ['GGG', 'GGA'], 'GGA': [], 'AGG': [], 'GAG': ['AGG'], 'CAG': ['AGG', 'AGG']}\n",
            "{'GGG': ['GGG', 'GGA'], 'GGA': [], 'AGG': ['GGG'], 'GAG': ['AGG'], 'CAG': ['AGG', 'AGG']}\n",
            "{'GGG': ['GGG', 'GGA'], 'GGA': ['GAG'], 'AGG': ['GGG'], 'GAG': ['AGG'], 'CAG': ['AGG', 'AGG']}\n",
            "GGG -> GGG,GGA\n",
            "GGA -> GAG\n",
            "AGG -> GGG\n",
            "GAG -> AGG\n",
            "CAG -> AGG,AGG\n"
          ]
        }
      ],
      "source": [
        "kmers= ['GAGG','CAGG','GGGG','GGGA','CAGG','AGGG','GGAG']\n",
        "result=de_bruijn_graph_from_kmers(kmers)\n",
        "for line in result:\n",
        "    print(line)"
      ]
    },
    {
      "cell_type": "markdown",
      "metadata": {},
      "source": [
        "#### Problem BA3H: Reconstruct a String from its k-mer Composition\n",
        "\n",
        "https://rosalind.info/problems/ba3h/\n",
        "\n"
      ]
    },
    {
      "cell_type": "code",
      "execution_count": 152,
      "metadata": {},
      "outputs": [],
      "source": [
        "def de_bruijn_graph_from_kmers(kmers):\n",
        "    edges = []\n",
        "    nodes = set()\n",
        "    for kmer in kmers:\n",
        "        prefix = kmer[:-1]\n",
        "        suffix = kmer[1:]\n",
        "        edges.append((prefix, suffix))\n",
        "        nodes.add(prefix)\n",
        "        nodes.add(suffix)\n",
        "    graph = {node: [] for node in nodes}\n",
        "    for edge in edges:\n",
        "        graph[edge[0]].append(edge[1])\n",
        "    return graph\n",
        "\n",
        "def find_eulerian_path(graph):\n",
        "    in_degrees = {node: 0 for node in graph}\n",
        "    out_degrees = {node: len(graph[node]) for node in graph}\n",
        "\n",
        "    for node in graph:\n",
        "        for adj in graph[node]:\n",
        "            in_degrees[adj] += 1\n",
        "\n",
        "    start_node = None\n",
        "    for node in graph:\n",
        "        if out_degrees[node] - in_degrees[node] == 1:\n",
        "            start_node = node\n",
        "            break\n",
        "\n",
        "    if not start_node:\n",
        "        start_node = list(graph.keys())[0]\n",
        "\n",
        "    stack = [start_node]\n",
        "    path = []\n",
        "\n",
        "    while stack:\n",
        "        current_node = stack[-1]\n",
        "        if graph[current_node]:\n",
        "            next_node = graph[current_node].pop()\n",
        "            stack.append(next_node)\n",
        "        else:\n",
        "            path.append(stack.pop())\n",
        "\n",
        "    path = path[::-1]\n",
        "    return path\n",
        "\n",
        "def reconstruct_string_from_kmers(k, kmers):\n",
        "    graph = de_bruijn_graph_from_kmers(kmers)\n",
        "    print(graph)\n",
        "    eulerian_path = find_eulerian_path(graph)\n",
        "    text = eulerian_path[0]\n",
        "    for node in eulerian_path[1:]:\n",
        "        text += node[-1]\n",
        "    return text"
      ]
    },
    {
      "cell_type": "code",
      "execution_count": 153,
      "metadata": {},
      "outputs": [
        {
          "name": "stdout",
          "output_type": "stream",
          "text": [
            "{'ACC': ['CCA'], 'GCT': ['CTT'], 'CTT': ['TTA'], 'CCA': [], 'GGC': ['GCT'], 'TTA': ['TAC'], 'TAC': ['ACC']}\n",
            "GGCTTACCA\n"
          ]
        }
      ],
      "source": [
        "# Sample Dataset\n",
        "k = 4\n",
        "kmers = [\"CTTA\", \"ACCA\", \"TACC\", \"GGCT\", \"GCTT\", \"TTAC\"]\n",
        "\n",
        "# Reconstruct the string\n",
        "text = reconstruct_string_from_kmers(k, kmers)\n",
        "print(text)"
      ]
    }
  ],
  "metadata": {
    "colab": {
      "provenance": []
    },
    "kernelspec": {
      "display_name": "Python 3 (ipykernel)",
      "language": "python",
      "name": "python3"
    },
    "language_info": {
      "codemirror_mode": {
        "name": "ipython",
        "version": 3
      },
      "file_extension": ".py",
      "mimetype": "text/x-python",
      "name": "python",
      "nbconvert_exporter": "python",
      "pygments_lexer": "ipython3",
      "version": "3.10.0"
    }
  },
  "nbformat": 4,
  "nbformat_minor": 0
}
