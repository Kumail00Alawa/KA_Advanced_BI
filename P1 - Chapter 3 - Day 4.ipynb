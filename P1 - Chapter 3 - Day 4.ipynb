{
 "cells": [
  {
   "cell_type": "markdown",
   "metadata": {},
   "source": [
    "#### Problem BA3A: Generate the k-mer Composition of a String\n",
    "http://rosalind.info/problems/ba3a/"
   ]
  },
  {
   "cell_type": "code",
   "execution_count": null,
   "metadata": {},
   "outputs": [],
   "source": [
    "## Write your code here\n",
    "\n"
   ]
  },
  {
   "cell_type": "markdown",
   "metadata": {},
   "source": [
    "#### Problem BA3B: Reconstruct a String from its Genome Path\n",
    "http://rosalind.info/problems/ba3b/"
   ]
  },
  {
   "cell_type": "code",
   "execution_count": null,
   "metadata": {},
   "outputs": [],
   "source": [
    "## Write your code here\n",
    "\n"
   ]
  },
  {
   "cell_type": "markdown",
   "metadata": {},
   "source": [
    "#### Problem BA3C: Construct the Overlap Graph of a Collection of Kmers\n",
    "\n",
    "http://rosalind.info/problems/ba3c/"
   ]
  },
  {
   "cell_type": "code",
   "execution_count": null,
   "metadata": {},
   "outputs": [],
   "source": [
    "## Complete the following code by filling the blanks.\n",
    "## The blanks are represented by: ...\n",
    "\n",
    "\n",
    "def GeneratePrefix(...):\n",
    "    \"Generates the k-1 prefix and suffix of kmers\"\n",
    "    prefixes = {}\n",
    "    for ... in ...:\n",
    "        prefix = ...\n",
    "        prefixes[...] = ...\n",
    "\n",
    "    return prefixes\n",
    "\n",
    "def GenerateSuffix(...):\n",
    "    \"Generates the k-1 prefix and suffix of kmers\"\n",
    "    suffixes = {}\n",
    "    for ... in ...:\n",
    "        suffix = ...\n",
    "        suffixes[...] = ...\n",
    "\n",
    "    return suffixes\n",
    "\n",
    "def OverlapGraph(...):\n",
    "    \"\"\"Forms the overlap graph of a collection of patterns.\"\"\"\n",
    "    prefix_dict = GeneratePrefix(...)\n",
    "    suffixes_dict = GenerateSuffix(...)\n",
    "\n",
    "    matches = []\n",
    "    \n",
    "    # Check if value of prefixes equals value of suffixes   \n",
    "    for ..., ... in ...:\n",
    "\n",
    "        \n",
    "        for ..., ... in ...:\n",
    "             if ... == ...:\n",
    "                match_pair = (..., ...)\n",
    "                matches.append(match_pair)\n",
    "\n",
    "    for pair in matches:\n",
    "        print(f\"{pair[0]} -> {pair[1]}\")"
   ]
  }
 ],
 "metadata": {
  "language_info": {
   "name": "python"
  }
 },
 "nbformat": 4,
 "nbformat_minor": 2
}
