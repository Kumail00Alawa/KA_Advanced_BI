{
 "cells": [
  {
   "cell_type": "markdown",
   "id": "f62026bc-dc3f-4f55-a569-62b642cda700",
   "metadata": {},
   "source": [
    "# Pattern count function\n",
    "\n"
   ]
  },
  {
   "cell_type": "code",
   "execution_count": null,
   "id": "d78559a4-29de-4729-99f2-501b73fbca18",
   "metadata": {},
   "outputs": [],
   "source": [
    "'''\n",
    "- Theorical Example:\n",
    "- If we have the gene GCGCG, and we want to count the pattern of GCG in the given gene\n",
    "- We want to slide the pattern GCG over the gene GCGCG, so it would be:\n",
    "\n",
    "- First iteration:\n",
    "- Text   : GCGCG\n",
    "- Pattern: GCG\n",
    "\n",
    "- Second iteration:\n",
    "- Text   : GCGCG\n",
    "- Pattern:  GCG\n",
    "\n",
    "- Third iteration:\n",
    "- Text   : GCGCG\n",
    "- Pattern:   GCG\n",
    "\n",
    "- As you can see, we can slide the pattern over the whole text of the gene in just three iterations for the given example! \n",
    "- We want to build that in a code format, and we want to make it general for any text and any pattern as we will do in the text below:\n",
    "'''\n",
    "\n",
    "def PatternCount(Text, Pattern):\n",
    "    '''\n",
    "    - Define a counter variable that will count the occurence of a specific pattern in the text\n",
    "    - The counter will be incremented by one if the pattern has been detected\n",
    "    '''\n",
    "    count = 0\n",
    "\n",
    "\n",
    "    '''\n",
    "    - Define 'position' variable that will set the stopping index when we slide the pattern over the text.\n",
    "    - For example, if we consider the same example of having a gene GCGCG and we want to find the pattern GCG:\n",
    "    - Index  : 01234\n",
    "    - Text   : GCGCG\n",
    "    - Pattern:   GCG\n",
    "\n",
    "    - For the above example, the variable position = 2\n",
    "    - This marks the index of the text when the pattern reaches the end of the text.\n",
    "\n",
    "    - Then, we will define another variable that we will call overlap. We will be adding 1 to the position variable.\n",
    "    - It will be clear why we are adding 1 to the position variable later in the code.\n",
    "    '''\n",
    "    position = len(Text) - len(Pattern)\n",
    "    overlap = position + 1\n",
    "\n",
    "\n",
    "    '''\n",
    "    - I will start by explaining the output of range(overlap)\n",
    "    - range(overlap) = [0, 1, 2, ..., overlap - 1]\n",
    "    - For our example of gene GCGCG and the pattern GCG we will have:\n",
    "    - range(overlap) = [0, 1, 2]\n",
    "    '''    \n",
    "    for i in range(overlap):\n",
    "        '''\n",
    "        - The 'start' and 'end' variables will set the starting index and the ending index of the text. \n",
    "        - This will be used later to slice the text by selecting certain indicies.\n",
    "        - These variables will be updated in each iteration during the loop as shown below:\n",
    "\n",
    "        - For the first iteration:\n",
    "        - start = 0\n",
    "        - end   = 3\n",
    "\n",
    "        - For the second iteration:\n",
    "        - start = 1\n",
    "        - end   = 4\n",
    "\n",
    "        - For the third iteration:\n",
    "        - start = 2\n",
    "        - end   = 5\n",
    "\n",
    "        - As we mentioned earlier, we will use 'start' and 'end' variables to slice the text and compare it with the given pattern.\n",
    "        - If the slice of the text is same as the pattern, the counter will be incremented by 1.\n",
    "        '''\n",
    "        start = i\n",
    "        end = i + len(Pattern)\n",
    "        if Text[start:end] == Pattern:\n",
    "            count += 1\n",
    "\n",
    "\n",
    "    '''\n",
    "    - After we finish the code we will return the result we obtained to the user! :)\n",
    "    '''\n",
    "    return count"
   ]
  },
  {
   "cell_type": "code",
   "execution_count": null,
   "id": "8ad976b4-48c5-4974-bc74-0ce5d4b486b3",
   "metadata": {},
   "outputs": [],
   "source": [
    "#try to run the function\n",
    "PatternCount(\"GCGCG\",\"GCG\")"
   ]
  },
  {
   "cell_type": "code",
   "execution_count": null,
   "id": "e5f26c12-8dfe-4e31-bd71-e5275479886e",
   "metadata": {},
   "outputs": [],
   "source": [
    "#try a different one\n",
    "PatternCount(\"CGTCGCTCGTCTCGCTCGAATTCGCTCGAGGTTGACGGCAAATTGCCATCGCTCGCGTCGCTCGAGGTTCGCTCGATCGCTCGTCGCTCGTTCCACTCGCTCGTCGCTCGATCGCTCGCACTCGCTCGGCACTGGTCGCTCGGTCGCTCGTCGCTCGCGTCGCTCGCCTGGTCATCGCTCGAATCGCTCGTCGATCATCGCTCGCTCGCATCGCTCGTATCCCTCGCTCGCATCGCTCGTCGCTCGACTTCGCTCGCTCGCTCGTCGCTCGTTTGTTCGCTCGAAGATAATCCTCGCTCGGGTCGCTCGTCGCTCGTCGCTCGGGTCGCTCGGAGAATCGCTCGTCGCTCGTCGCTCGTCGCTCGTCGCTCGTTCCCCGTTCGCTCGCTATCGCTCGCAAGGTCGCTCGATGCTCGCTCGAATCGCTCGTCGCTCGTATTAACAACTTCGCTCGGTCGCTCGTCGCTCGTCGCTCGCTTCGCTCGTCGCTCGGTCGCTCGGTCGCTCGAGCTCGCTCGTCGCTCGCTCTCGCTCGGTGATCTCGCTCGTCTCGCTCGCATCGCTCGACTTTCTAGTCGCTCGGGTCTCGCTCGCCATCGCTCGGTCGCTCGCTAGCGTCTTCGCTCGTTAACGTCGCTCGTACGTCGCTCGATATCGCTCGGTTCCTCGCTCGTACTTCGCTCGTTATCGCTCGCATCGCTCGATAGTTCGCTCGTCGCTCGCTGCTCGCTCGTCGCTCGTATCGCTCGGCGTTCGCTCGTCGCTCGTCGCTCGATGGTCGCTCGTTCGCTCGTCGCTCGTTCGCTCGCAGATGCGTATCGCTCGGTATCGCTCGGTACATCGCTCGCGCTCGCATTCGCTCGATCGCTCGCTGTCGCTCGGCTGGTCGCTCGTCGCTCGTTATCGCTCGTGATCGCTCGTATCGCTCGACTCGCTCGTGACAATTCGCTCGGTCGCTCGCTCGCTCGCCTCGCTCGGGTCGCTCGTTCGCTCGATCGCTCGTCGCTCGCGATCGCTCGCTCGCTCGTCGCTCG\",\"TCGCTCGTC\")"
   ]
  },
  {
   "cell_type": "markdown",
   "id": "7ecaf83c-9eef-4d16-a751-d7669dc664d0",
   "metadata": {},
   "source": [
    "# FrequentWords function"
   ]
  },
  {
   "cell_type": "code",
   "execution_count": null,
   "id": "fdad43f3-e2f9-4336-94c5-8591bab3cf64",
   "metadata": {},
   "outputs": [],
   "source": [
    "def FrequentWords(Text, k):\n",
    "    frequent_patterns = set()\n",
    "    count = {}\n",
    "\n",
    "    # iterate through DNA Text and count kmers\n",
    "    for i in range(len(Text) - k):\n",
    "        pattern = Text[i : i + k]\n",
    "        # add pattern to dictionary\n",
    "        # key is i, start position of kmer\n",
    "        # value is count, using PatternCount function from 1A\n",
    "        count[i] = PatternCount(Text, pattern)\n",
    "\n",
    "        # find maximum count value in dictionary\n",
    "        max_count = max(count.values())\n",
    "\n",
    "    # iterate through Text again, if count at that position is max count, slice that kmer and add to set\n",
    "    for position in range(len(Text) - k):\n",
    "        if count[position] == max_count:\n",
    "            frequent_patterns.add(Text[position : position + k])\n",
    "\n",
    "    return frequent_patterns\n",
    "\n",
    "assert FrequentWords(\"ACGTTGCATGTCGCATGATGCATGAGAGCT\", 4) == {'CATG', 'GCAT'}"
   ]
  },
  {
   "cell_type": "code",
   "execution_count": null,
   "id": "fa32d863-cfaa-4537-a3b8-d2cf898b408e",
   "metadata": {},
   "outputs": [],
   "source": [
    "FrequentWords(\"CGGAGGACTCTAGGTAACGCTTATCAGGTCCATAGGACATTCA\" , 3)"
   ]
  },
  {
   "cell_type": "markdown",
   "id": "c33948ff-d7ba-4b37-b946-309e08806e27",
   "metadata": {},
   "source": [
    "# FrequencyTable function"
   ]
  },
  {
   "cell_type": "code",
   "execution_count": null,
   "id": "aa397e07-0cb5-4858-aa3a-0c12b357dc52",
   "metadata": {},
   "outputs": [],
   "source": [
    "def FrequencyTable(Text, k):\n",
    "  freqMap = dict()\n",
    "  n = len(Text)\n",
    "  for i in range(0, n - k + 1):\n",
    "    Pattern = Text[i:i+k]\n",
    "    freqMap[Pattern] = freqMap.get(Pattern, 0) + 1\n",
    "  return freqMap\n",
    "\n",
    "def MaxMap(freqMap):\n",
    "  return max(freqMap.values())\n",
    "\n",
    "def FrequentWords(Text, k):\n",
    "  FrequentPatterns = list()\n",
    "  freqMap = FrequencyTable(Text, k)\n",
    "  maxCount = MaxMap(freqMap)\n",
    "  for Pattern in freqMap.keys():\n",
    "    if freqMap[Pattern] == maxCount:\n",
    "      FrequentPatterns.append(Pattern)\n",
    "  return FrequentPatterns"
   ]
  },
  {
   "cell_type": "code",
   "execution_count": null,
   "id": "70f766b7-ae03-45d4-baca-1a48aa5620a4",
   "metadata": {},
   "outputs": [],
   "source": [
    "output=FrequentWords(\"AGTGATCTGTACCTGATACCTGAGTACCAGATACGCTCTACGCTCTACGCTCTAGTGATCTGTACCTGAGTACCAGATGCCCGCCACGCTCTGTACCAGATAGTGATCTGACGCTCTACGCTCTAGTGATCTGACGCTCTACGCTCTAGTGATCTGGCCCGCCGCCCGCCGTACCAGATAGTGATCTGTACCTGAGCCCGCCGCCCGCCTACCTGAGTACCAGATAGTGATCTGGCCCGCCGTACCAGATTACCTGATACCTGAGTACCAGATGTACCAGATTACCTGAGTACCAGATAGTGATCTGACGCTCTTACCTGAGTACCAGATAGTGATCTGAGTGATCTGGCCCGCCGCCCGCCACGCTCTGCCCGCCAGTGATCTGACGCTCTGCCCGCCTACCTGAGCCCGCCAGTGATCTGACGCTCTTACCTGAGCCCGCCAGTGATCTGGCCCGCCGCCCGCCTACCTGAGTACCAGATTACCTGAGCCCGCCAGTGATCTGACGCTCTTACCTGAAGTGATCTGGTACCAGATGTACCAGATGTACCAGATAGTGATCTGACGCTCTGTACCAGATGCCCGCCAGTGATCTGGCCCGCCGTACCAGATGCCCGCCGTACCAGATAGTGATCTGGTACCAGATTACCTGAGTACCAGATACGCTCTACGCTCTGCCCGCCAGTGATCTGTACCTGAGCCCGCCTACCTGAGCCCGCCGTACCAGATGTACCAGATAGTGATCTGGCCCGCCGCCCGCCAGTGATCTGTACCTGAAGTGATCTGGTACCAGATGTACCAGATAGTGATCTGAGTGATCTG\" , 12)"
   ]
  },
  {
   "cell_type": "code",
   "execution_count": null,
   "id": "8fee641b-afb9-499f-8a85-13ecbe48d37a",
   "metadata": {},
   "outputs": [],
   "source": [
    "output"
   ]
  },
  {
   "cell_type": "code",
   "execution_count": null,
   "id": "9d13e5c3-716a-4f87-883a-8ba4116d9886",
   "metadata": {},
   "outputs": [],
   "source": [
    "\" \".join(map(str, output))"
   ]
  },
  {
   "cell_type": "markdown",
   "id": "a1164ea3-811a-4a98-ba88-3906d99aed17",
   "metadata": {},
   "source": [
    "# ReverseComplement function"
   ]
  },
  {
   "cell_type": "code",
   "execution_count": null,
   "id": "b2919f72-b7d9-47e1-adcd-f69b2b239747",
   "metadata": {},
   "outputs": [],
   "source": [
    "def ReverseComplement(Text):\n",
    "    complement = []\n",
    "    for i in Text:\n",
    "        if i == \"A\":\n",
    "            complement.append(\"T\")\n",
    "        elif i == \"T\":\n",
    "            complement.append(\"A\")\n",
    "        elif i == \"G\":\n",
    "            complement.append(\"C\")\n",
    "        elif i == \"C\":\n",
    "            complement.append(\"G\")\n",
    "        else:\n",
    "            print(\"Not ACTG!\")\n",
    "\n",
    "    print (complement)\n",
    "\n",
    "    reverse_complement = list(reversed(complement))\n",
    "    print(reverse_complement)\n",
    "\n",
    "\n",
    "    return \"\".join(reverse_complement)"
   ]
  },
  {
   "cell_type": "code",
   "execution_count": null,
   "id": "6f9ad346-bbbe-4619-8b30-95008b590ecc",
   "metadata": {},
   "outputs": [],
   "source": [
    "ReverseComplement(\"TTGTGTC\")"
   ]
  },
  {
   "cell_type": "markdown",
   "id": "be4455ca-7635-458a-bfd7-c76c6b348bed",
   "metadata": {},
   "source": [
    "# LocatePatternMatch function"
   ]
  },
  {
   "cell_type": "code",
   "execution_count": null,
   "id": "6c538caf-c601-4701-9e99-46527e5b7f46",
   "metadata": {},
   "outputs": [],
   "source": [
    "def LocatePatternMatch(Pattern, Genome):\n",
    "    match_spot = []\n",
    "    for i in range(len(Genome) - len(Pattern) + 1):\n",
    "        if Genome[i : i + len(Pattern)] == Pattern:\n",
    "            match_spot.append(i)\n",
    "\n",
    "    return match_spot"
   ]
  },
  {
   "cell_type": "code",
   "execution_count": null,
   "id": "b2db5f9d-de44-4cde-a58c-9dd0ce268bef",
   "metadata": {},
   "outputs": [],
   "source": [
    "LocatePatternMatch(\"AA\", \"AAACATAGGATCAAC\")"
   ]
  },
  {
   "cell_type": "markdown",
   "id": "25d33f2b-404e-42c1-b1ff-c306ffe9e3b3",
   "metadata": {},
   "source": [
    "# FindClumps function"
   ]
  },
  {
   "cell_type": "code",
   "execution_count": null,
   "id": "a99c5ce1-1820-40a4-972b-830eb68d1004",
   "metadata": {},
   "outputs": [],
   "source": [
    "def FindClumps(Genome, kmer_length, clump_length, times):\n",
    "    # define length to search within\n",
    "    clump_overlap = len(Genome) - clump_length + 1\n",
    "    # kmer_overlap is looking within clump\n",
    "    kmer_overlap = clump_length - kmer_length + 1\n",
    "    # define kmers greater than times\n",
    "    keepers = set()\n",
    "    for clump_index in range(clump_overlap):\n",
    "        # define clump window\n",
    "        clump_start = clump_index\n",
    "        clump_end = clump_index + clump_length\n",
    "        clump = Genome[clump_start:clump_end]\n",
    "        # define dictionary of kmers\n",
    "        kmer_counts = {}\n",
    "        for kmer_index in range(kmer_overlap):\n",
    "            kmer_start = kmer_index\n",
    "            kmer_end = kmer_index + kmer_length\n",
    "            kmer = clump[kmer_start:kmer_end]\n",
    "            if kmer in kmer_counts:\n",
    "                # if kmer in dictionary, add count, +=\n",
    "                kmer_counts[kmer] += 1\n",
    "            else:\n",
    "                # if kmer not in dictionary, add it\n",
    "                kmer_counts[kmer] = 1\n",
    "        # check if kmers occur greater than times\n",
    "        for kmer in kmer_counts:\n",
    "            if kmer_counts[kmer] >= times:\n",
    "                keepers.add(kmer)\n",
    "\n",
    "    return keepers"
   ]
  },
  {
   "cell_type": "code",
   "execution_count": null,
   "id": "6f82c243-f1de-47ee-bdd1-c40587006bfd",
   "metadata": {},
   "outputs": [],
   "source": [
    "FindClumps(\"CGGACTCGACAGATGTGAAGAAATGTGAAGACTGAGTGAAGAGAAGAGGAAACACGACACGACATTGCGACATAATGTACGAATGTAATGTGCCTATGGC\",\n",
    "5, 75, 4)"
   ]
  },
  {
   "cell_type": "code",
   "execution_count": null,
   "id": "5b78d065-98a6-49a1-8a02-5e2a52473b63",
   "metadata": {},
   "outputs": [],
   "source": []
  }
 ],
 "metadata": {
  "kernelspec": {
   "display_name": "Python 3 (ipykernel)",
   "language": "python",
   "name": "python3"
  },
  "language_info": {
   "codemirror_mode": {
    "name": "ipython",
    "version": 3
   },
   "file_extension": ".py",
   "mimetype": "text/x-python",
   "name": "python",
   "nbconvert_exporter": "python",
   "pygments_lexer": "ipython3",
   "version": "3.10.0"
  }
 },
 "nbformat": 4,
 "nbformat_minor": 5
}
